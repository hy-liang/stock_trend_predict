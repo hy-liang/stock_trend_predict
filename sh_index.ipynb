{
 "cells": [
  {
   "cell_type": "code",
   "execution_count": 72,
   "metadata": {},
   "outputs": [],
   "source": [
    "import tushare as ts\n",
    "import pandas as pd\n",
    "import torch\n",
    "import numpy as np"
   ]
  },
  {
   "cell_type": "code",
   "execution_count": 73,
   "metadata": {},
   "outputs": [],
   "source": [
    "data = ts.get_hist_data('sh')\n",
    "data_train = data[100:]\n",
    "data_test = data[:100]\n",
    "data = [data_train, data_test]"
   ]
  },
  {
   "cell_type": "code",
   "execution_count": 74,
   "metadata": {},
   "outputs": [],
   "source": [
    "input_size = 5\n",
    "hidden_size = 16\n",
    "num_layers = 1\n",
    "import torch.nn as nn\n",
    "class StockLSTM(nn.Module):\n",
    "    def __init__(self):\n",
    "        super(StockLSTM, self).__init__()\n",
    "        self.lstm = nn.LSTM(input_size, hidden_size,\n",
    "                           num_layers, batch_first=True)\n",
    "        self.fc_net = nn.Sequential(\n",
    "        nn.Linear(hidden_size, 2),\n",
    "        nn.LogSoftmax(dim=-1))\n",
    "    def forward(self,x):\n",
    "        h0 = torch.zeros(num_layers, x.shape[0], hidden_size)\n",
    "        c0 = torch.zeros(num_layers, x.shape[0], hidden_size)\n",
    "        o, (h, _) = self.lstm(x, (h0, c0))\n",
    "        pred = self.fc_net(o[:, -1, :])\n",
    "        return pred"
   ]
  },
  {
   "cell_type": "code",
   "execution_count": 75,
   "metadata": {},
   "outputs": [],
   "source": [
    "def get_data(train):\n",
    "    o = data[train]['open'].values\n",
    "    c = data[train]['close'].values\n",
    "    h = data[train]['high'].values\n",
    "    l = data[train]['low'].values\n",
    "    v = data[train]['volume'].values\n",
    "    data_len = len(v)\n",
    "    x, y = [], []\n",
    "    for i in range(5, data_len - 1):\n",
    "        d = [\n",
    "            v[i-5: i], o[i-5:i],c[i-5:i], h[i-5: i],l[i-5:i]\n",
    "        ]\n",
    "\n",
    "        d = np.asarray(d).T\n",
    "        x.append(d)\n",
    "        if c[i] > (c[i-1]):\n",
    "            y.append(1)\n",
    "        else:\n",
    "            y.append(0)\n",
    "    x, y = np.asarray(x), np.asarray(y)\n",
    "    print (x.shape, y.shape)\n",
    "    return x, y"
   ]
  },
  {
   "cell_type": "code",
   "execution_count": 76,
   "metadata": {},
   "outputs": [
    {
     "name": "stdout",
     "output_type": "stream",
     "text": [
      "((503, 5, 5), (503,))\n",
      "((94, 5, 5), (94,))\n"
     ]
    }
   ],
   "source": [
    "x_train, y_train = get_data(0)\n",
    "x_test, y_test = get_data(1)"
   ]
  },
  {
   "cell_type": "code",
   "execution_count": 77,
   "metadata": {},
   "outputs": [],
   "source": [
    "v_min, v_max = np.min(x_train[:, :, 0]), np.max(x_train[:, :, 0])\n",
    "v_min, v_max = np.log(v_min), np.log(v_max)"
   ]
  },
  {
   "cell_type": "code",
   "execution_count": 78,
   "metadata": {},
   "outputs": [],
   "source": [
    "import torch.utils.data as data\n",
    "class stock_dataset(data.Dataset):\n",
    "    def __init__(self, train):\n",
    "        self.x = x_train if train else x_test\n",
    "        self.y = y_train if train else y_test\n",
    "        self.x[:, :, 0] = np.log(self.x[:, :, 0])\n",
    "        self.x[:, :, 0] = (self.x[:, :, 0]-v_min)/(v_max-v_min)\n",
    "    def __getitem__(self,index):\n",
    "        x = torch.Tensor(self.x[index, :, :5])\n",
    "        y = self.y[index]\n",
    "        p_min = torch.min(x[:, 1:5]) - 1\n",
    "        p_max = torch.max(x[:, 1:5]) + 1\n",
    "        x[:, 1:5] = (x[:, 1:5] - p_min)/(p_max-p_min)\n",
    "        return x, y\n",
    "    def __len__(self):\n",
    "        return len(self.y)"
   ]
  },
  {
   "cell_type": "code",
   "execution_count": 79,
   "metadata": {},
   "outputs": [],
   "source": [
    "import torch.optim as optim\n",
    "import torch.nn.functional as F\n",
    "torch.utils.data.DataLoader\n",
    "train_loader = torch.utils.data.DataLoader(\n",
    "    dataset=stock_dataset(True),\n",
    "    batch_size=32,\n",
    "    shuffle=True)\n",
    "test_loader = torch.utils.data.DataLoader(\n",
    "    dataset=stock_dataset(False),\n",
    "    batch_size=32,\n",
    "    shuffle=False)"
   ]
  },
  {
   "cell_type": "code",
   "execution_count": 80,
   "metadata": {},
   "outputs": [],
   "source": [
    "def train(model, epoch):\n",
    "    model.train()\n",
    "    optimizer = optim.Adam(model.parameters())\n",
    "    for i, (x, y) in enumerate(train_loader):\n",
    "        y = y.long()\n",
    "        optimizer.zero_grad()\n",
    "        pred = model(x)\n",
    "        loss = F.nll_loss(pred, y)\n",
    "        loss.backward()\n",
    "        optimizer.step()\n",
    "def test(model, epoch):\n",
    "    model.eval()\n",
    "    conf_mat = np.zeros([2,2])\n",
    "    for x, y in test_loader:\n",
    "        y = y.long()\n",
    "        pred = model(x)\n",
    "        pred_class = torch.argmax(pred, dim=1).long()\n",
    "        for i in range(len(pred_class)):\n",
    "            conf_mat[pred_class[i], y[i]] += 1\n",
    "    print (conf_mat)"
   ]
  },
  {
   "cell_type": "code",
   "execution_count": 81,
   "metadata": {},
   "outputs": [],
   "source": [
    "model = StockLSTM()\n",
    "for i in range(1,1):\n",
    "    train(model, i)\n",
    "    test(model, i)"
   ]
  },
  {
   "cell_type": "code",
   "execution_count": null,
   "metadata": {},
   "outputs": [],
   "source": []
  }
 ],
 "metadata": {
  "kernelspec": {
   "display_name": "Python 2",
   "language": "python",
   "name": "python2"
  },
  "language_info": {
   "codemirror_mode": {
    "name": "ipython",
    "version": 2
   },
   "file_extension": ".py",
   "mimetype": "text/x-python",
   "name": "python",
   "nbconvert_exporter": "python",
   "pygments_lexer": "ipython2",
   "version": "2.7.10"
  }
 },
 "nbformat": 4,
 "nbformat_minor": 2
}
